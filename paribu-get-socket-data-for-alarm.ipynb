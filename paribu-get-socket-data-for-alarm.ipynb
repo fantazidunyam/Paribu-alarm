{
 "cells": [
  {
   "cell_type": "code",
   "execution_count": null,
   "metadata": {},
   "outputs": [
    {
     "name": "stdout",
     "output_type": "stream",
     "text": [
      "New thread for listening started.\n",
      "ping/pong timed out\n",
      "'Thread' object has no attribute 'isAlive'\n",
      "New thread for listening started.\n",
      "ping/pong timed out\n",
      "'Thread' object has no attribute 'isAlive'\n",
      "New thread for listening started.\n",
      "ping/pong timed out\n",
      "'Thread' object has no attribute 'isAlive'\n",
      "New thread for listening started.\n"
     ]
    }
   ],
   "source": [
    "# -*- coding: utf-8 -*-\n",
    "import websocket\n",
    "import threading\n",
    "import time\n",
    "import json\n",
    "import winsound\n",
    "\n",
    "\n",
    "btt_tl = {'event':'pusher:subscribe','data':{'auth':'','channel':'prb-market-btt-tl'}}\n",
    "\n",
    "def on_message(ws, message):\n",
    "    message = json.loads(message)\n",
    "    \n",
    "\n",
    "\n",
    "    if message['event'] == 'state-updated':\n",
    "        message = json.loads(message['data'])\n",
    "        if 'sell' not in message['patch']['merge'] and 'buy' not in message['patch']['merge']  :\n",
    "            for line in message['patch']['merge']:\n",
    "                if line['price'] == \"0.00280000\":\n",
    "                    print (line['price'])\n",
    "                    while True:\n",
    "                        winsound.Beep(1000,500)\n",
    "\n",
    "                elif line['price'] == \"0.00320000\":\n",
    "                    print (line['price'])\n",
    "                    while True:\n",
    "                        winsound.Beep(1000,500)                \n",
    "                    \n",
    "                \n",
    "\n",
    "\n",
    "def on_error(ws, error):\n",
    "    print(error)\n",
    "    raise Exception\n",
    "\n",
    "def on_close(ws):\n",
    "    ws.close()\n",
    "    print(\"### closed ###\")\n",
    "    raise Exception\n",
    "\n",
    "def on_open(ws):\n",
    "    def run(*args):\n",
    "        print ('New thread for listening started.')\n",
    "        ws.send(json.dumps(btt_tl))\n",
    "    t = threading.Thread(target=run(), args=())\n",
    "    t.start()\n",
    "\n",
    "while True:\n",
    "    try:\n",
    "        ws = websocket.WebSocketApp(\"wss://ws-eu.pusher.com/app/a68d528f48f652c94c88?protocol=7&client=js&version=5.1.1&flash=false\",\n",
    "                                  on_message = on_message,\n",
    "                                  on_error = on_error,\n",
    "                                  on_close = on_close)\n",
    "        ws.on_open = on_open\n",
    "        ws.run_forever(ping_interval=5, ping_timeout=1)\n",
    "    except Exception as e:\n",
    "        print (e)\n",
    "        pass\n",
    "    time.sleep(5)"
   ]
  },
  {
   "cell_type": "code",
   "execution_count": null,
   "metadata": {},
   "outputs": [],
   "source": [
    "import winsound\n",
    "duration = 10000  # milliseconds\n",
    "freq = 440  # Hz\n",
    "winsound.Beep(freq, duration)"
   ]
  },
  {
   "cell_type": "code",
   "execution_count": null,
   "metadata": {},
   "outputs": [],
   "source": [
    "import winsound\n",
    "while True:\n",
    "    winsound.Beep(1000,500)"
   ]
  },
  {
   "cell_type": "code",
   "execution_count": null,
   "metadata": {},
   "outputs": [],
   "source": []
  },
  {
   "cell_type": "code",
   "execution_count": null,
   "metadata": {},
   "outputs": [],
   "source": []
  }
 ],
 "metadata": {
  "kernelspec": {
   "display_name": "Python 3",
   "language": "python",
   "name": "python3"
  },
  "language_info": {
   "codemirror_mode": {
    "name": "ipython",
    "version": 3
   },
   "file_extension": ".py",
   "mimetype": "text/x-python",
   "name": "python",
   "nbconvert_exporter": "python",
   "pygments_lexer": "ipython3",
   "version": "3.9.1"
  }
 },
 "nbformat": 4,
 "nbformat_minor": 4
}
